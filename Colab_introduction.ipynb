{
  "nbformat": 4,
  "nbformat_minor": 0,
  "metadata": {
    "colab": {
      "name": "Colab introduction.ipynb",
      "provenance": [],
      "authorship_tag": "ABX9TyNIUnypemuM9bXHuQfn/Tw/",
      "include_colab_link": true
    },
    "kernelspec": {
      "name": "python3",
      "display_name": "Python 3"
    },
    "language_info": {
      "name": "python"
    }
  },
  "cells": [
    {
      "cell_type": "markdown",
      "metadata": {
        "id": "view-in-github",
        "colab_type": "text"
      },
      "source": [
        "<a href=\"https://colab.research.google.com/github/Deepiiit/R-Python_for_Data_science/blob/dev/Colab_introduction.ipynb\" target=\"_parent\"><img src=\"https://colab.research.google.com/assets/colab-badge.svg\" alt=\"Open In Colab\"/></a>"
      ]
    },
    {
      "cell_type": "markdown",
      "source": [
        "# **Welcome to Google Colaboratory**"
      ],
      "metadata": {
        "id": "FvGmYH9dM3OU"
      }
    },
    {
      "cell_type": "markdown",
      "source": [
        "## What is Colab?\n",
        "\n",
        "- Ready-to-eat\n",
        "- Ready-to-serve\n",
        "\n",
        "[Youtube - Colab](https://www.youtube.com/hashtag/colab)\n",
        "\n",
        "[Youtube - Google colaboratory](https://www.youtube.com/hashtag/googlecolab)\n"
      ],
      "metadata": {
        "id": "E1ofeKRbKQlK"
      }
    },
    {
      "cell_type": "markdown",
      "source": [
        "## Can we interact ?"
      ],
      "metadata": {
        "id": "BGIdvxNfKTMK"
      }
    },
    {
      "cell_type": "markdown",
      "source": [
        "## Documentation ? "
      ],
      "metadata": {
        "id": "3Wm0OF1pKuLw"
      }
    },
    {
      "cell_type": "markdown",
      "source": [
        "## Charges ?"
      ],
      "metadata": {
        "id": "3v9AvHuNLEav"
      }
    },
    {
      "cell_type": "markdown",
      "source": [
        "## Demonstration"
      ],
      "metadata": {
        "id": "FRyB10EjLJGZ"
      }
    },
    {
      "cell_type": "code",
      "source": [
        "print(\"Hello students\")"
      ],
      "metadata": {
        "colab": {
          "base_uri": "https://localhost:8080/"
        },
        "id": "NAoeyPbLLN3C",
        "outputId": "7ff3cdd2-817f-46ee-e6cd-492a1f462166"
      },
      "execution_count": null,
      "outputs": [
        {
          "output_type": "stream",
          "name": "stdout",
          "text": [
            "Hello students\n"
          ]
        }
      ]
    },
    {
      "cell_type": "markdown",
      "source": [
        "## Package installation"
      ],
      "metadata": {
        "id": "laKsoXGAMFJ5"
      }
    },
    {
      "cell_type": "code",
      "source": [
        "from numpy import random\n",
        "x = random.randint(6)\n",
        "print(x)"
      ],
      "metadata": {
        "colab": {
          "base_uri": "https://localhost:8080/"
        },
        "id": "dId9CXpaMJ4f",
        "outputId": "f1ee8485-c7d7-4009-fdd5-0396af39fb59"
      },
      "execution_count": null,
      "outputs": [
        {
          "output_type": "stream",
          "name": "stdout",
          "text": [
            "5\n"
          ]
        }
      ]
    }
  ]
}